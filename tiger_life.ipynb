{
 "cells": [
  {
   "cell_type": "code",
   "execution_count": 7,
   "id": "4e425f15-2092-44d1-8322-3f5ab4aca44f",
   "metadata": {},
   "outputs": [],
   "source": [
    "import matplotlib.pyplot as plt\n",
    "import pandas as pd\n",
    "import scipy.stats as st\n",
    "import numpy as np\n",
    "from scipy.stats import linregress"
   ]
  },
  {
   "cell_type": "code",
   "execution_count": 15,
   "id": "55990e4f-2a06-480b-ace2-e19ce9fed516",
   "metadata": {},
   "outputs": [
    {
     "data": {
      "text/html": [
       "<div>\n",
       "<style scoped>\n",
       "    .dataframe tbody tr th:only-of-type {\n",
       "        vertical-align: middle;\n",
       "    }\n",
       "\n",
       "    .dataframe tbody tr th {\n",
       "        vertical-align: top;\n",
       "    }\n",
       "\n",
       "    .dataframe thead th {\n",
       "        text-align: right;\n",
       "    }\n",
       "</style>\n",
       "<table border=\"1\" class=\"dataframe\">\n",
       "  <thead>\n",
       "    <tr style=\"text-align: right;\">\n",
       "      <th></th>\n",
       "      <th>Country</th>\n",
       "      <th>Year</th>\n",
       "      <th>Status</th>\n",
       "      <th>Life expectancy</th>\n",
       "      <th>Adult Mortality</th>\n",
       "      <th>infant deaths</th>\n",
       "      <th>Alcohol</th>\n",
       "      <th>percentage expenditure</th>\n",
       "      <th>Hepatitis B</th>\n",
       "      <th>Measles</th>\n",
       "      <th>...</th>\n",
       "      <th>Polio</th>\n",
       "      <th>Total expenditure</th>\n",
       "      <th>Diphtheria</th>\n",
       "      <th>HIV/AIDS</th>\n",
       "      <th>GDP</th>\n",
       "      <th>Population</th>\n",
       "      <th>thinness  1-19 years</th>\n",
       "      <th>thinness 5-9 years</th>\n",
       "      <th>Income composition of resources</th>\n",
       "      <th>Schooling</th>\n",
       "    </tr>\n",
       "  </thead>\n",
       "  <tbody>\n",
       "    <tr>\n",
       "      <th>0</th>\n",
       "      <td>Afghanistan</td>\n",
       "      <td>2015</td>\n",
       "      <td>Developing</td>\n",
       "      <td>65.0</td>\n",
       "      <td>263.0</td>\n",
       "      <td>62</td>\n",
       "      <td>0.01</td>\n",
       "      <td>71.279624</td>\n",
       "      <td>65.0</td>\n",
       "      <td>1154</td>\n",
       "      <td>...</td>\n",
       "      <td>6.0</td>\n",
       "      <td>8.16</td>\n",
       "      <td>65.0</td>\n",
       "      <td>0.1</td>\n",
       "      <td>584.259210</td>\n",
       "      <td>33736494.0</td>\n",
       "      <td>17.2</td>\n",
       "      <td>17.3</td>\n",
       "      <td>0.479</td>\n",
       "      <td>10.1</td>\n",
       "    </tr>\n",
       "    <tr>\n",
       "      <th>1</th>\n",
       "      <td>Afghanistan</td>\n",
       "      <td>2014</td>\n",
       "      <td>Developing</td>\n",
       "      <td>59.9</td>\n",
       "      <td>271.0</td>\n",
       "      <td>64</td>\n",
       "      <td>0.01</td>\n",
       "      <td>73.523582</td>\n",
       "      <td>62.0</td>\n",
       "      <td>492</td>\n",
       "      <td>...</td>\n",
       "      <td>58.0</td>\n",
       "      <td>8.18</td>\n",
       "      <td>62.0</td>\n",
       "      <td>0.1</td>\n",
       "      <td>612.696514</td>\n",
       "      <td>327582.0</td>\n",
       "      <td>17.5</td>\n",
       "      <td>17.5</td>\n",
       "      <td>0.476</td>\n",
       "      <td>10.0</td>\n",
       "    </tr>\n",
       "    <tr>\n",
       "      <th>2</th>\n",
       "      <td>Afghanistan</td>\n",
       "      <td>2013</td>\n",
       "      <td>Developing</td>\n",
       "      <td>59.9</td>\n",
       "      <td>268.0</td>\n",
       "      <td>66</td>\n",
       "      <td>0.01</td>\n",
       "      <td>73.219243</td>\n",
       "      <td>64.0</td>\n",
       "      <td>430</td>\n",
       "      <td>...</td>\n",
       "      <td>62.0</td>\n",
       "      <td>8.13</td>\n",
       "      <td>64.0</td>\n",
       "      <td>0.1</td>\n",
       "      <td>631.744976</td>\n",
       "      <td>31731688.0</td>\n",
       "      <td>17.7</td>\n",
       "      <td>17.7</td>\n",
       "      <td>0.470</td>\n",
       "      <td>9.9</td>\n",
       "    </tr>\n",
       "    <tr>\n",
       "      <th>3</th>\n",
       "      <td>Afghanistan</td>\n",
       "      <td>2012</td>\n",
       "      <td>Developing</td>\n",
       "      <td>59.5</td>\n",
       "      <td>272.0</td>\n",
       "      <td>69</td>\n",
       "      <td>0.01</td>\n",
       "      <td>78.184215</td>\n",
       "      <td>67.0</td>\n",
       "      <td>2787</td>\n",
       "      <td>...</td>\n",
       "      <td>67.0</td>\n",
       "      <td>8.52</td>\n",
       "      <td>67.0</td>\n",
       "      <td>0.1</td>\n",
       "      <td>669.959000</td>\n",
       "      <td>3696958.0</td>\n",
       "      <td>17.9</td>\n",
       "      <td>18.0</td>\n",
       "      <td>0.463</td>\n",
       "      <td>9.8</td>\n",
       "    </tr>\n",
       "    <tr>\n",
       "      <th>4</th>\n",
       "      <td>Afghanistan</td>\n",
       "      <td>2011</td>\n",
       "      <td>Developing</td>\n",
       "      <td>59.2</td>\n",
       "      <td>275.0</td>\n",
       "      <td>71</td>\n",
       "      <td>0.01</td>\n",
       "      <td>7.097109</td>\n",
       "      <td>68.0</td>\n",
       "      <td>3013</td>\n",
       "      <td>...</td>\n",
       "      <td>68.0</td>\n",
       "      <td>7.87</td>\n",
       "      <td>68.0</td>\n",
       "      <td>0.1</td>\n",
       "      <td>63.537231</td>\n",
       "      <td>2978599.0</td>\n",
       "      <td>18.2</td>\n",
       "      <td>18.2</td>\n",
       "      <td>0.454</td>\n",
       "      <td>9.5</td>\n",
       "    </tr>\n",
       "    <tr>\n",
       "      <th>...</th>\n",
       "      <td>...</td>\n",
       "      <td>...</td>\n",
       "      <td>...</td>\n",
       "      <td>...</td>\n",
       "      <td>...</td>\n",
       "      <td>...</td>\n",
       "      <td>...</td>\n",
       "      <td>...</td>\n",
       "      <td>...</td>\n",
       "      <td>...</td>\n",
       "      <td>...</td>\n",
       "      <td>...</td>\n",
       "      <td>...</td>\n",
       "      <td>...</td>\n",
       "      <td>...</td>\n",
       "      <td>...</td>\n",
       "      <td>...</td>\n",
       "      <td>...</td>\n",
       "      <td>...</td>\n",
       "      <td>...</td>\n",
       "      <td>...</td>\n",
       "    </tr>\n",
       "    <tr>\n",
       "      <th>2933</th>\n",
       "      <td>Zimbabwe</td>\n",
       "      <td>2004</td>\n",
       "      <td>Developing</td>\n",
       "      <td>44.3</td>\n",
       "      <td>723.0</td>\n",
       "      <td>27</td>\n",
       "      <td>4.36</td>\n",
       "      <td>0.000000</td>\n",
       "      <td>68.0</td>\n",
       "      <td>31</td>\n",
       "      <td>...</td>\n",
       "      <td>67.0</td>\n",
       "      <td>7.13</td>\n",
       "      <td>65.0</td>\n",
       "      <td>33.6</td>\n",
       "      <td>454.366654</td>\n",
       "      <td>12777511.0</td>\n",
       "      <td>9.4</td>\n",
       "      <td>9.4</td>\n",
       "      <td>0.407</td>\n",
       "      <td>9.2</td>\n",
       "    </tr>\n",
       "    <tr>\n",
       "      <th>2934</th>\n",
       "      <td>Zimbabwe</td>\n",
       "      <td>2003</td>\n",
       "      <td>Developing</td>\n",
       "      <td>44.5</td>\n",
       "      <td>715.0</td>\n",
       "      <td>26</td>\n",
       "      <td>4.06</td>\n",
       "      <td>0.000000</td>\n",
       "      <td>7.0</td>\n",
       "      <td>998</td>\n",
       "      <td>...</td>\n",
       "      <td>7.0</td>\n",
       "      <td>6.52</td>\n",
       "      <td>68.0</td>\n",
       "      <td>36.7</td>\n",
       "      <td>453.351155</td>\n",
       "      <td>12633897.0</td>\n",
       "      <td>9.8</td>\n",
       "      <td>9.9</td>\n",
       "      <td>0.418</td>\n",
       "      <td>9.5</td>\n",
       "    </tr>\n",
       "    <tr>\n",
       "      <th>2935</th>\n",
       "      <td>Zimbabwe</td>\n",
       "      <td>2002</td>\n",
       "      <td>Developing</td>\n",
       "      <td>44.8</td>\n",
       "      <td>73.0</td>\n",
       "      <td>25</td>\n",
       "      <td>4.43</td>\n",
       "      <td>0.000000</td>\n",
       "      <td>73.0</td>\n",
       "      <td>304</td>\n",
       "      <td>...</td>\n",
       "      <td>73.0</td>\n",
       "      <td>6.53</td>\n",
       "      <td>71.0</td>\n",
       "      <td>39.8</td>\n",
       "      <td>57.348340</td>\n",
       "      <td>125525.0</td>\n",
       "      <td>1.2</td>\n",
       "      <td>1.3</td>\n",
       "      <td>0.427</td>\n",
       "      <td>10.0</td>\n",
       "    </tr>\n",
       "    <tr>\n",
       "      <th>2936</th>\n",
       "      <td>Zimbabwe</td>\n",
       "      <td>2001</td>\n",
       "      <td>Developing</td>\n",
       "      <td>45.3</td>\n",
       "      <td>686.0</td>\n",
       "      <td>25</td>\n",
       "      <td>1.72</td>\n",
       "      <td>0.000000</td>\n",
       "      <td>76.0</td>\n",
       "      <td>529</td>\n",
       "      <td>...</td>\n",
       "      <td>76.0</td>\n",
       "      <td>6.16</td>\n",
       "      <td>75.0</td>\n",
       "      <td>42.1</td>\n",
       "      <td>548.587312</td>\n",
       "      <td>12366165.0</td>\n",
       "      <td>1.6</td>\n",
       "      <td>1.7</td>\n",
       "      <td>0.427</td>\n",
       "      <td>9.8</td>\n",
       "    </tr>\n",
       "    <tr>\n",
       "      <th>2937</th>\n",
       "      <td>Zimbabwe</td>\n",
       "      <td>2000</td>\n",
       "      <td>Developing</td>\n",
       "      <td>46.0</td>\n",
       "      <td>665.0</td>\n",
       "      <td>24</td>\n",
       "      <td>1.68</td>\n",
       "      <td>0.000000</td>\n",
       "      <td>79.0</td>\n",
       "      <td>1483</td>\n",
       "      <td>...</td>\n",
       "      <td>78.0</td>\n",
       "      <td>7.10</td>\n",
       "      <td>78.0</td>\n",
       "      <td>43.5</td>\n",
       "      <td>547.358878</td>\n",
       "      <td>12222251.0</td>\n",
       "      <td>11.0</td>\n",
       "      <td>11.2</td>\n",
       "      <td>0.434</td>\n",
       "      <td>9.8</td>\n",
       "    </tr>\n",
       "  </tbody>\n",
       "</table>\n",
       "<p>2938 rows × 22 columns</p>\n",
       "</div>"
      ],
      "text/plain": [
       "          Country  Year      Status  Life expectancy   Adult Mortality  \\\n",
       "0     Afghanistan  2015  Developing              65.0            263.0   \n",
       "1     Afghanistan  2014  Developing              59.9            271.0   \n",
       "2     Afghanistan  2013  Developing              59.9            268.0   \n",
       "3     Afghanistan  2012  Developing              59.5            272.0   \n",
       "4     Afghanistan  2011  Developing              59.2            275.0   \n",
       "...           ...   ...         ...               ...              ...   \n",
       "2933     Zimbabwe  2004  Developing              44.3            723.0   \n",
       "2934     Zimbabwe  2003  Developing              44.5            715.0   \n",
       "2935     Zimbabwe  2002  Developing              44.8             73.0   \n",
       "2936     Zimbabwe  2001  Developing              45.3            686.0   \n",
       "2937     Zimbabwe  2000  Developing              46.0            665.0   \n",
       "\n",
       "      infant deaths  Alcohol  percentage expenditure  Hepatitis B  Measles   \\\n",
       "0                62     0.01               71.279624         65.0      1154   \n",
       "1                64     0.01               73.523582         62.0       492   \n",
       "2                66     0.01               73.219243         64.0       430   \n",
       "3                69     0.01               78.184215         67.0      2787   \n",
       "4                71     0.01                7.097109         68.0      3013   \n",
       "...             ...      ...                     ...          ...       ...   \n",
       "2933             27     4.36                0.000000         68.0        31   \n",
       "2934             26     4.06                0.000000          7.0       998   \n",
       "2935             25     4.43                0.000000         73.0       304   \n",
       "2936             25     1.72                0.000000         76.0       529   \n",
       "2937             24     1.68                0.000000         79.0      1483   \n",
       "\n",
       "      ...  Polio  Total expenditure  Diphtheria    HIV/AIDS         GDP  \\\n",
       "0     ...    6.0               8.16         65.0        0.1  584.259210   \n",
       "1     ...   58.0               8.18         62.0        0.1  612.696514   \n",
       "2     ...   62.0               8.13         64.0        0.1  631.744976   \n",
       "3     ...   67.0               8.52         67.0        0.1  669.959000   \n",
       "4     ...   68.0               7.87         68.0        0.1   63.537231   \n",
       "...   ...    ...                ...          ...        ...         ...   \n",
       "2933  ...   67.0               7.13         65.0       33.6  454.366654   \n",
       "2934  ...    7.0               6.52         68.0       36.7  453.351155   \n",
       "2935  ...   73.0               6.53         71.0       39.8   57.348340   \n",
       "2936  ...   76.0               6.16         75.0       42.1  548.587312   \n",
       "2937  ...   78.0               7.10         78.0       43.5  547.358878   \n",
       "\n",
       "      Population   thinness  1-19 years   thinness 5-9 years  \\\n",
       "0     33736494.0                   17.2                 17.3   \n",
       "1       327582.0                   17.5                 17.5   \n",
       "2     31731688.0                   17.7                 17.7   \n",
       "3      3696958.0                   17.9                 18.0   \n",
       "4      2978599.0                   18.2                 18.2   \n",
       "...          ...                    ...                  ...   \n",
       "2933  12777511.0                    9.4                  9.4   \n",
       "2934  12633897.0                    9.8                  9.9   \n",
       "2935    125525.0                    1.2                  1.3   \n",
       "2936  12366165.0                    1.6                  1.7   \n",
       "2937  12222251.0                   11.0                 11.2   \n",
       "\n",
       "      Income composition of resources  Schooling  \n",
       "0                               0.479       10.1  \n",
       "1                               0.476       10.0  \n",
       "2                               0.470        9.9  \n",
       "3                               0.463        9.8  \n",
       "4                               0.454        9.5  \n",
       "...                               ...        ...  \n",
       "2933                            0.407        9.2  \n",
       "2934                            0.418        9.5  \n",
       "2935                            0.427       10.0  \n",
       "2936                            0.427        9.8  \n",
       "2937                            0.434        9.8  \n",
       "\n",
       "[2938 rows x 22 columns]"
      ]
     },
     "execution_count": 15,
     "metadata": {},
     "output_type": "execute_result"
    }
   ],
   "source": [
    "life_expectancy_path = \"life_expectancy.csv\"\n",
    "\n",
    "life_expectancy_data = pd.read_csv(life_expectancy_path)\n",
    "\n",
    "life_expectancy_data"
   ]
  },
  {
   "cell_type": "code",
   "execution_count": 16,
   "id": "1f69e824-9613-4876-9137-d0d365c0c1f3",
   "metadata": {},
   "outputs": [],
   "source": [
    "style_dict = {\n",
    "    \"Mean\": \"{:.2f}\", \n",
    "    \"Median\": \"{:.2f}\",\n",
    "    \"Variance\": \"{:.2f}\", \n",
    "    \"Standard Deviation\": \"{:.2f}\",\n",
    "    \"Standard Error\": \"{:.2f}\", \n",
    "    \"mean\": \"{:.2f}\",\n",
    "    \"median\": \"{:.2f}\",\n",
    "    \"var\": \"{:.2f}\",\n",
    "    \"std\": \"{:.2f}\",\n",
    "    \"sem\":\"{:.2f}\",\n",
    "    'GDP': \"{:.3f}\",\n",
    "    \"percentage expenditure\": \"{:.2f}\",\n",
    "}"
   ]
  },
  {
   "cell_type": "code",
   "execution_count": 17,
   "id": "407da9e7-37dc-4221-bba2-aa0aa9d8e624",
   "metadata": {},
   "outputs": [],
   "source": [
    "life_exp_df = life_expectancy_data.copy()"
   ]
  },
  {
   "cell_type": "code",
   "execution_count": 18,
   "id": "3dcca030-377b-49f1-9401-7e4f911bbc20",
   "metadata": {},
   "outputs": [
    {
     "data": {
      "text/plain": [
       "Index(['Country', 'Year', 'Status', 'Life expectancy ', 'Adult Mortality',\n",
       "       'infant deaths', 'Alcohol', 'percentage expenditure', 'Hepatitis B',\n",
       "       'Measles ', ' BMI ', 'under-five deaths ', 'Polio', 'Total expenditure',\n",
       "       'Diphtheria ', ' HIV/AIDS', 'GDP', 'Population',\n",
       "       ' thinness  1-19 years', ' thinness 5-9 years',\n",
       "       'Income composition of resources', 'Schooling'],\n",
       "      dtype='object')"
      ]
     },
     "execution_count": 18,
     "metadata": {},
     "output_type": "execute_result"
    }
   ],
   "source": [
    "life_exp_df.columns"
   ]
  },
  {
   "cell_type": "code",
   "execution_count": 19,
   "id": "741a9162-1324-4770-85e2-7b0e6c6428b5",
   "metadata": {},
   "outputs": [
    {
     "data": {
      "text/plain": [
       "193"
      ]
     },
     "execution_count": 19,
     "metadata": {},
     "output_type": "execute_result"
    }
   ],
   "source": [
    "len(life_exp_df[\"Country\"].unique())\n",
    "\n",
    "# 193 Countries"
   ]
  },
  {
   "cell_type": "code",
   "execution_count": 20,
   "id": "d030c829-94e9-46cf-bd46-37b512f0584f",
   "metadata": {},
   "outputs": [],
   "source": [
    "reduced_df = life_exp_df[['Country', 'Year', 'Status', 'Life expectancy ',\n",
    "       'Alcohol', ' BMI ', 'Total expenditure','GDP', 'Population',\n",
    "       'Income composition of resources', 'Schooling']].copy()\n",
    "\n",
    "reduced_df.columns = [col.strip() for col in reduced_df.columns]\n",
    "\n",
    "#reduced_df"
   ]
  },
  {
   "cell_type": "code",
   "execution_count": 21,
   "id": "f21eb96e-0564-48e8-8262-128a900a564f",
   "metadata": {},
   "outputs": [],
   "source": [
    "drop_countries = ['San Marino', 'Marshall Islands', 'Cook Islands', 'Saint Kitts and Nevis', 'Niue', 'Palau', 'Dominica', 'Monaco', 'Nauru',\n",
    "                  'Tuvalu']\n",
    "\n",
    "for country in drop_countries:\n",
    "    reduced_df.drop(reduced_df[reduced_df['Country'] == country].index, inplace=True)\n",
    "    \n",
    "#reduced_df['Country'].value_counts() #all 16\n",
    "#183 countries"
   ]
  },
  {
   "cell_type": "code",
   "execution_count": 22,
   "id": "938766e2-36ce-433d-8c28-cab6f21f8380",
   "metadata": {},
   "outputs": [],
   "source": [
    "## Dropped 10 Countries - missing life expectancy data\n",
    "#### San Marino, Marshall Islands, Cook Islands, Saint Kitts and Nevis, Niue, Palau, Dominica, Monaco, Nauru, Tuvalu"
   ]
  },
  {
   "cell_type": "code",
   "execution_count": 23,
   "id": "b31e584f-67d9-4a64-a233-dc68be05d7ce",
   "metadata": {},
   "outputs": [
    {
     "data": {
      "text/plain": [
       "Country\n",
       "Afghanistan                           16\n",
       "Albania                               16\n",
       "Algeria                               16\n",
       "Angola                                16\n",
       "Antigua and Barbuda                   16\n",
       "                                      ..\n",
       "Venezuela (Bolivarian Republic of)    16\n",
       "Viet Nam                              16\n",
       "Yemen                                 16\n",
       "Zambia                                16\n",
       "Zimbabwe                              16\n",
       "Name: Schooling, Length: 183, dtype: int64"
      ]
     },
     "execution_count": 23,
     "metadata": {},
     "output_type": "execute_result"
    }
   ],
   "source": [
    "reduced_df.groupby(\"Country\")['Schooling'].count()\n",
    "\n",
    "#183 countries"
   ]
  },
  {
   "cell_type": "code",
   "execution_count": 24,
   "id": "885c1e59-fbe9-429d-b0b5-6b1a68b5c26c",
   "metadata": {},
   "outputs": [
    {
     "data": {
      "text/html": [
       "<div>\n",
       "<style scoped>\n",
       "    .dataframe tbody tr th:only-of-type {\n",
       "        vertical-align: middle;\n",
       "    }\n",
       "\n",
       "    .dataframe tbody tr th {\n",
       "        vertical-align: top;\n",
       "    }\n",
       "\n",
       "    .dataframe thead th {\n",
       "        text-align: right;\n",
       "    }\n",
       "</style>\n",
       "<table border=\"1\" class=\"dataframe\">\n",
       "  <thead>\n",
       "    <tr style=\"text-align: right;\">\n",
       "      <th></th>\n",
       "      <th>Country</th>\n",
       "      <th>Year</th>\n",
       "      <th>Status</th>\n",
       "      <th>Life expectancy</th>\n",
       "      <th>BMI</th>\n",
       "      <th>GDP</th>\n",
       "      <th>Schooling</th>\n",
       "    </tr>\n",
       "  </thead>\n",
       "  <tbody>\n",
       "    <tr>\n",
       "      <th>0</th>\n",
       "      <td>Afghanistan</td>\n",
       "      <td>2015</td>\n",
       "      <td>Developing</td>\n",
       "      <td>65.0</td>\n",
       "      <td>19.1</td>\n",
       "      <td>584.259210</td>\n",
       "      <td>10.1</td>\n",
       "    </tr>\n",
       "    <tr>\n",
       "      <th>1</th>\n",
       "      <td>Afghanistan</td>\n",
       "      <td>2014</td>\n",
       "      <td>Developing</td>\n",
       "      <td>59.9</td>\n",
       "      <td>18.6</td>\n",
       "      <td>612.696514</td>\n",
       "      <td>10.0</td>\n",
       "    </tr>\n",
       "    <tr>\n",
       "      <th>2</th>\n",
       "      <td>Afghanistan</td>\n",
       "      <td>2013</td>\n",
       "      <td>Developing</td>\n",
       "      <td>59.9</td>\n",
       "      <td>18.1</td>\n",
       "      <td>631.744976</td>\n",
       "      <td>9.9</td>\n",
       "    </tr>\n",
       "    <tr>\n",
       "      <th>3</th>\n",
       "      <td>Afghanistan</td>\n",
       "      <td>2012</td>\n",
       "      <td>Developing</td>\n",
       "      <td>59.5</td>\n",
       "      <td>17.6</td>\n",
       "      <td>669.959000</td>\n",
       "      <td>9.8</td>\n",
       "    </tr>\n",
       "    <tr>\n",
       "      <th>4</th>\n",
       "      <td>Afghanistan</td>\n",
       "      <td>2011</td>\n",
       "      <td>Developing</td>\n",
       "      <td>59.2</td>\n",
       "      <td>17.2</td>\n",
       "      <td>63.537231</td>\n",
       "      <td>9.5</td>\n",
       "    </tr>\n",
       "    <tr>\n",
       "      <th>...</th>\n",
       "      <td>...</td>\n",
       "      <td>...</td>\n",
       "      <td>...</td>\n",
       "      <td>...</td>\n",
       "      <td>...</td>\n",
       "      <td>...</td>\n",
       "      <td>...</td>\n",
       "    </tr>\n",
       "    <tr>\n",
       "      <th>2933</th>\n",
       "      <td>Zimbabwe</td>\n",
       "      <td>2004</td>\n",
       "      <td>Developing</td>\n",
       "      <td>44.3</td>\n",
       "      <td>27.1</td>\n",
       "      <td>454.366654</td>\n",
       "      <td>9.2</td>\n",
       "    </tr>\n",
       "    <tr>\n",
       "      <th>2934</th>\n",
       "      <td>Zimbabwe</td>\n",
       "      <td>2003</td>\n",
       "      <td>Developing</td>\n",
       "      <td>44.5</td>\n",
       "      <td>26.7</td>\n",
       "      <td>453.351155</td>\n",
       "      <td>9.5</td>\n",
       "    </tr>\n",
       "    <tr>\n",
       "      <th>2935</th>\n",
       "      <td>Zimbabwe</td>\n",
       "      <td>2002</td>\n",
       "      <td>Developing</td>\n",
       "      <td>44.8</td>\n",
       "      <td>26.3</td>\n",
       "      <td>57.348340</td>\n",
       "      <td>10.0</td>\n",
       "    </tr>\n",
       "    <tr>\n",
       "      <th>2936</th>\n",
       "      <td>Zimbabwe</td>\n",
       "      <td>2001</td>\n",
       "      <td>Developing</td>\n",
       "      <td>45.3</td>\n",
       "      <td>25.9</td>\n",
       "      <td>548.587312</td>\n",
       "      <td>9.8</td>\n",
       "    </tr>\n",
       "    <tr>\n",
       "      <th>2937</th>\n",
       "      <td>Zimbabwe</td>\n",
       "      <td>2000</td>\n",
       "      <td>Developing</td>\n",
       "      <td>46.0</td>\n",
       "      <td>25.5</td>\n",
       "      <td>547.358878</td>\n",
       "      <td>9.8</td>\n",
       "    </tr>\n",
       "  </tbody>\n",
       "</table>\n",
       "<p>2928 rows × 7 columns</p>\n",
       "</div>"
      ],
      "text/plain": [
       "          Country  Year      Status  Life expectancy   BMI         GDP  \\\n",
       "0     Afghanistan  2015  Developing             65.0  19.1  584.259210   \n",
       "1     Afghanistan  2014  Developing             59.9  18.6  612.696514   \n",
       "2     Afghanistan  2013  Developing             59.9  18.1  631.744976   \n",
       "3     Afghanistan  2012  Developing             59.5  17.6  669.959000   \n",
       "4     Afghanistan  2011  Developing             59.2  17.2   63.537231   \n",
       "...           ...   ...         ...              ...   ...         ...   \n",
       "2933     Zimbabwe  2004  Developing             44.3  27.1  454.366654   \n",
       "2934     Zimbabwe  2003  Developing             44.5  26.7  453.351155   \n",
       "2935     Zimbabwe  2002  Developing             44.8  26.3   57.348340   \n",
       "2936     Zimbabwe  2001  Developing             45.3  25.9  548.587312   \n",
       "2937     Zimbabwe  2000  Developing             46.0  25.5  547.358878   \n",
       "\n",
       "      Schooling  \n",
       "0          10.1  \n",
       "1          10.0  \n",
       "2           9.9  \n",
       "3           9.8  \n",
       "4           9.5  \n",
       "...         ...  \n",
       "2933        9.2  \n",
       "2934        9.5  \n",
       "2935       10.0  \n",
       "2936        9.8  \n",
       "2937        9.8  \n",
       "\n",
       "[2928 rows x 7 columns]"
      ]
     },
     "execution_count": 24,
     "metadata": {},
     "output_type": "execute_result"
    }
   ],
   "source": [
    "school_df = reduced_df[['Country', 'Year','Status','Life expectancy','BMI', 'GDP', 'Schooling']]\n",
    "\n",
    "school_df"
   ]
  },
  {
   "cell_type": "code",
   "execution_count": 25,
   "id": "f47ad5e2-399a-43ca-a703-50f76aefb1a7",
   "metadata": {},
   "outputs": [
    {
     "name": "stderr",
     "output_type": "stream",
     "text": [
      "C:\\Users\\joshu\\anaconda3\\lib\\site-packages\\pandas\\core\\frame.py:4308: SettingWithCopyWarning: \n",
      "A value is trying to be set on a copy of a slice from a DataFrame\n",
      "\n",
      "See the caveats in the documentation: https://pandas.pydata.org/pandas-docs/stable/user_guide/indexing.html#returning-a-view-versus-a-copy\n",
      "  return super().drop(\n"
     ]
    }
   ],
   "source": [
    "drop_countries_schooling = ['Czechia',\"Côte d'Ivoire\",\"Democratic People's Republic of Korea\", \n",
    "                            \"Democratic Republic of the Congo\", \"Republic of Korea\", \"Republic of Moldova\", \"Somalia\",\n",
    "                            \"United Kingdom of Great Britain and Northern Ireland\",\"United Republic of Tanzania\",\n",
    "                            \"United States of America\"]\n",
    "\n",
    "for country in drop_countries_schooling:\n",
    "    school_df.drop(school_df[school_df['Country'] == country].index, inplace=True)"
   ]
  },
  {
   "cell_type": "code",
   "execution_count": 26,
   "id": "81eae294-a68c-4692-a1ee-23566f171d0b",
   "metadata": {},
   "outputs": [
    {
     "data": {
      "text/plain": [
       "Country\n",
       "Afghanistan                           16\n",
       "Albania                               16\n",
       "Algeria                               16\n",
       "Angola                                16\n",
       "Antigua and Barbuda                   16\n",
       "                                      ..\n",
       "Venezuela (Bolivarian Republic of)    16\n",
       "Viet Nam                              16\n",
       "Yemen                                 16\n",
       "Zambia                                16\n",
       "Zimbabwe                              16\n",
       "Name: Schooling, Length: 173, dtype: int64"
      ]
     },
     "execution_count": 26,
     "metadata": {},
     "output_type": "execute_result"
    }
   ],
   "source": [
    "school_df.groupby(\"Country\")['Schooling'].count()\n",
    "\n",
    "#173 countries"
   ]
  },
  {
   "cell_type": "markdown",
   "id": "22e0a82a-a0f7-4b76-9b1e-c98f5604e849",
   "metadata": {},
   "source": [
    "## \"Fig. #: Does More School = More Life?\""
   ]
  },
  {
   "cell_type": "code",
   "execution_count": 27,
   "id": "6ac33160-59d4-4d58-9c6a-97db8d89fb2a",
   "metadata": {},
   "outputs": [
    {
     "name": "stdout",
     "output_type": "stream",
     "text": [
      "The correlation between average years in school and average life expectancy is 0.79\n"
     ]
    },
    {
     "data": {
      "text/plain": [
       "Text(0.5, 1.0, 'Fig. 1: Does More School = More Life?')"
      ]
     },
     "execution_count": 27,
     "metadata": {},
     "output_type": "execute_result"
    },
    {
     "data": {
      "image/png": "[encoded data removed]",
      "text/plain": [
       "<Figure size 864x432 with 1 Axes>"
      ]
     },
     "metadata": {
      "needs_background": "light"
     },
     "output_type": "display_data"
    }
   ],
   "source": [
    "fig = plt.figure(figsize =(12, 6))\n",
    "\n",
    "school_mean = school_df.groupby(\"Country\")[\"Schooling\"].mean()\n",
    "school_mean\n",
    "\n",
    "life_exp_mean = school_df.groupby(\"Country\")[\"Life expectancy\"].mean()\n",
    "life_exp_mean\n",
    "\n",
    "correlation_school_life = st.pearsonr(life_exp_mean,school_mean)\n",
    "print(f\"The correlation between average years in school and average life expectancy is {round(correlation_school_life[0],2)}\")\n",
    "\n",
    "\n",
    "x_values = school_mean\n",
    "y_values = life_exp_mean\n",
    "(slope, intercept, rvalue, pvalue, stderr) = linregress(x_values, y_values)\n",
    "regress_values = x_values * slope + intercept\n",
    "line_eq = \"y = \" + str(round(slope,2)) + \"x + \" + str(round(intercept,2))\n",
    "\n",
    "plt.scatter(x_values,y_values)\n",
    "plt.plot(x_values,regress_values,\"r-\")\n",
    "plt.annotate(line_eq,(6,10),fontsize=15,color=\"purple\")\n",
    "plt.xlabel(\"Average Schooling (years)\")\n",
    "plt.ylabel(\"Average Life Expectancy (years)\")\n",
    "plt.title(\"Fig. 1: Does More School = More Life?\")"
   ]
  },
  {
   "cell_type": "markdown",
   "id": "9b782d2f-8734-48f2-af17-89cbcd854a98",
   "metadata": {},
   "source": [
    "## \"Fig. #: Does More Development = More School?\""
   ]
  },
  {
   "cell_type": "code",
   "execution_count": 28,
   "id": "b36fba9c-595c-45e5-aa63-cff65ef6985d",
   "metadata": {},
   "outputs": [
    {
     "data": {
      "text/plain": [
       "<AxesSubplot:>"
      ]
     },
     "execution_count": 28,
     "metadata": {},
     "output_type": "execute_result"
    },
    {
     "data": {
      "image/png": "[encoded data removed]",
      "text/plain": [
       "<Figure size 432x288 with 1 Axes>"
      ]
     },
     "metadata": {
      "needs_background": "light"
     },
     "output_type": "display_data"
    }
   ],
   "source": [
    "school_mean = school_df.groupby(\"Country\")[\"Schooling\"].mean()\n",
    "school_mean\n",
    "\n",
    "life_exp_mean = school_df.groupby(\"Country\")[\"Life expectancy\"].mean()\n",
    "life_exp_mean\n",
    "\n",
    "Life = list(school_df.groupby(\"Status\")[\"Schooling\"].mean())\n",
    "School = list(school_df.groupby(\"Status\")[\"Life expectancy\"].mean())\n",
    "index = ['Developed', 'Developing']\n",
    "df = pd.DataFrame({'Years of Life': Life,\n",
    "                    'Years of Schooling': School}, index=index)\n",
    "\n",
    "ax = df.plot.barh()\n",
    "ax"
   ]
  },
  {
   "cell_type": "code",
   "execution_count": null,
   "id": "2cd5d147-3605-4632-bfda-6886516781d5",
   "metadata": {},
   "outputs": [],
   "source": []
  },
  {
   "cell_type": "code",
   "execution_count": null,
   "id": "3f690f74-a87a-4fd0-84ce-38110b75ea34",
   "metadata": {},
   "outputs": [],
   "source": []
  },
  {
   "cell_type": "code",
   "execution_count": null,
   "id": "56826e5e-2720-44ad-9060-037f09cfbd25",
   "metadata": {},
   "outputs": [],
   "source": []
  },
  {
   "cell_type": "code",
   "execution_count": 61,
   "id": "c76db837-1f66-491c-a7f7-6b60ecbbfc08",
   "metadata": {},
   "outputs": [],
   "source": [
    "## \"Fig. #: Does More Alcohol = More Money flowing?\""
   ]
  },
  {
   "cell_type": "code",
   "execution_count": 46,
   "id": "d2baf275-cfd7-43bd-819a-384714a8cd6d",
   "metadata": {},
   "outputs": [],
   "source": [
    "alc_df = reduced_df\n",
    "alc_df = alc_df.loc[alc_df['Country'] != \"Sudan\"]\n",
    "# Sorting out to see .01 values and then sorting by mean\n",
    "# Run this to get a summary table\n",
    "# alc_df.groupby(\"Country\")['Alcohol'].describe().sort_values('min')\n",
    "\n",
    "\n",
    "# Drop all the countries with .01 as a minimum value, interpreting that value as bad data (but WHO knows?!)\n",
    "alc_sum_table = alc_df.groupby(\"Country\")['Alcohol'].describe().sort_values('min')\n",
    "alc_sum_table.drop(alc_sum_table.loc[alc_sum_table['min'] == .01].index, inplace=True)\n",
    "alc_sum_table = alc_sum_table.merge(alc_df.groupby(\"Country\")['Status'].agg('min'), left_on='Country', right_index=True)\n",
    "# len(alc_sum_table) = 95\n",
    "# alc_sum_table['min'].agg('median') = 5.11\n",
    "\n",
    "\n",
    "# Setting up the tables to aggregate!\n",
    "gdp_mean = alc_df.groupby(\"Country\")['GDP'].agg('mean')\n",
    "gdp_mean = pd.DataFrame(gdp_mean)\n",
    "\n",
    "# Get the Upper and Lower Countries\n",
    "alc_sum_table = alc_sum_table.merge(gdp_mean, left_on=\"Country\", right_index=True)\n",
    "alc_sum_table = alc_sum_table.merge(alc_df.groupby('Country')['Life expectancy'].agg('mean'), on='Country')\n",
    "alc_sum_table = alc_sum_table.merge(alc_df.groupby('Country')['BMI'].agg('mean'), on='Country')\n",
    "alc_sum_table = alc_sum_table.merge(alc_df.groupby('Country')['Schooling'].agg('mean'), on='Country')"
   ]
  },
  {
   "cell_type": "code",
   "execution_count": 47,
   "id": "10cb6823-7cad-4944-a751-6de7a28c9713",
   "metadata": {},
   "outputs": [
    {
     "data": {
      "text/html": [
       "<div>\n",
       "<style scoped>\n",
       "    .dataframe tbody tr th:only-of-type {\n",
       "        vertical-align: middle;\n",
       "    }\n",
       "\n",
       "    .dataframe tbody tr th {\n",
       "        vertical-align: top;\n",
       "    }\n",
       "\n",
       "    .dataframe thead th {\n",
       "        text-align: right;\n",
       "    }\n",
       "</style>\n",
       "<table border=\"1\" class=\"dataframe\">\n",
       "  <thead>\n",
       "    <tr style=\"text-align: right;\">\n",
       "      <th></th>\n",
       "      <th>count</th>\n",
       "      <th>mean</th>\n",
       "      <th>std</th>\n",
       "      <th>min</th>\n",
       "      <th>25%</th>\n",
       "      <th>50%</th>\n",
       "      <th>75%</th>\n",
       "      <th>max</th>\n",
       "      <th>Status</th>\n",
       "      <th>GDP</th>\n",
       "      <th>Life expectancy</th>\n",
       "      <th>BMI</th>\n",
       "      <th>Schooling</th>\n",
       "    </tr>\n",
       "    <tr>\n",
       "      <th>Country</th>\n",
       "      <th></th>\n",
       "      <th></th>\n",
       "      <th></th>\n",
       "      <th></th>\n",
       "      <th></th>\n",
       "      <th></th>\n",
       "      <th></th>\n",
       "      <th></th>\n",
       "      <th></th>\n",
       "      <th></th>\n",
       "      <th></th>\n",
       "      <th></th>\n",
       "      <th></th>\n",
       "    </tr>\n",
       "  </thead>\n",
       "  <tbody>\n",
       "    <tr>\n",
       "      <th>Indonesia</th>\n",
       "      <td>15.0</td>\n",
       "      <td>0.068667</td>\n",
       "      <td>0.013558</td>\n",
       "      <td>0.05</td>\n",
       "      <td>0.060</td>\n",
       "      <td>0.06</td>\n",
       "      <td>0.080</td>\n",
       "      <td>0.09</td>\n",
       "      <td>Developing</td>\n",
       "      <td>1669.116783</td>\n",
       "      <td>67.55625</td>\n",
       "      <td>19.95625</td>\n",
       "      <td>11.61250</td>\n",
       "    </tr>\n",
       "    <tr>\n",
       "      <th>Saudi Arabia</th>\n",
       "      <td>15.0</td>\n",
       "      <td>0.074667</td>\n",
       "      <td>0.019952</td>\n",
       "      <td>0.05</td>\n",
       "      <td>0.050</td>\n",
       "      <td>0.09</td>\n",
       "      <td>0.090</td>\n",
       "      <td>0.10</td>\n",
       "      <td>Developing</td>\n",
       "      <td>10689.052946</td>\n",
       "      <td>73.46875</td>\n",
       "      <td>55.31250</td>\n",
       "      <td>13.28750</td>\n",
       "    </tr>\n",
       "    <tr>\n",
       "      <th>Egypt</th>\n",
       "      <td>15.0</td>\n",
       "      <td>0.188667</td>\n",
       "      <td>0.035429</td>\n",
       "      <td>0.14</td>\n",
       "      <td>0.155</td>\n",
       "      <td>0.21</td>\n",
       "      <td>0.215</td>\n",
       "      <td>0.24</td>\n",
       "      <td>Developing</td>\n",
       "      <td>NaN</td>\n",
       "      <td>71.50000</td>\n",
       "      <td>49.26250</td>\n",
       "      <td>11.89375</td>\n",
       "    </tr>\n",
       "    <tr>\n",
       "      <th>Senegal</th>\n",
       "      <td>15.0</td>\n",
       "      <td>0.309333</td>\n",
       "      <td>0.032834</td>\n",
       "      <td>0.26</td>\n",
       "      <td>0.280</td>\n",
       "      <td>0.32</td>\n",
       "      <td>0.335</td>\n",
       "      <td>0.36</td>\n",
       "      <td>Developing</td>\n",
       "      <td>274.611166</td>\n",
       "      <td>62.56875</td>\n",
       "      <td>18.44375</td>\n",
       "      <td>7.12500</td>\n",
       "    </tr>\n",
       "    <tr>\n",
       "      <th>Djibouti</th>\n",
       "      <td>15.0</td>\n",
       "      <td>0.764000</td>\n",
       "      <td>0.349873</td>\n",
       "      <td>0.38</td>\n",
       "      <td>0.470</td>\n",
       "      <td>0.53</td>\n",
       "      <td>1.025</td>\n",
       "      <td>1.34</td>\n",
       "      <td>Developing</td>\n",
       "      <td>897.999871</td>\n",
       "      <td>60.75625</td>\n",
       "      <td>26.25000</td>\n",
       "      <td>4.75000</td>\n",
       "    </tr>\n",
       "    <tr>\n",
       "      <th>...</th>\n",
       "      <td>...</td>\n",
       "      <td>...</td>\n",
       "      <td>...</td>\n",
       "      <td>...</td>\n",
       "      <td>...</td>\n",
       "      <td>...</td>\n",
       "      <td>...</td>\n",
       "      <td>...</td>\n",
       "      <td>...</td>\n",
       "      <td>...</td>\n",
       "      <td>...</td>\n",
       "      <td>...</td>\n",
       "      <td>...</td>\n",
       "    </tr>\n",
       "    <tr>\n",
       "      <th>France</th>\n",
       "      <td>15.0</td>\n",
       "      <td>12.404667</td>\n",
       "      <td>0.936695</td>\n",
       "      <td>11.10</td>\n",
       "      <td>11.750</td>\n",
       "      <td>12.20</td>\n",
       "      <td>13.335</td>\n",
       "      <td>13.89</td>\n",
       "      <td>Developing</td>\n",
       "      <td>26465.551381</td>\n",
       "      <td>82.21875</td>\n",
       "      <td>51.98125</td>\n",
       "      <td>15.90000</td>\n",
       "    </tr>\n",
       "    <tr>\n",
       "      <th>Austria</th>\n",
       "      <td>15.0</td>\n",
       "      <td>12.236000</td>\n",
       "      <td>0.408705</td>\n",
       "      <td>11.30</td>\n",
       "      <td>12.070</td>\n",
       "      <td>12.26</td>\n",
       "      <td>12.400</td>\n",
       "      <td>13.20</td>\n",
       "      <td>Developed</td>\n",
       "      <td>33827.476309</td>\n",
       "      <td>81.48125</td>\n",
       "      <td>48.28750</td>\n",
       "      <td>15.38750</td>\n",
       "    </tr>\n",
       "    <tr>\n",
       "      <th>Croatia</th>\n",
       "      <td>15.0</td>\n",
       "      <td>12.448000</td>\n",
       "      <td>0.666207</td>\n",
       "      <td>11.49</td>\n",
       "      <td>12.080</td>\n",
       "      <td>12.21</td>\n",
       "      <td>12.920</td>\n",
       "      <td>13.78</td>\n",
       "      <td>Developed</td>\n",
       "      <td>9056.784719</td>\n",
       "      <td>76.11875</td>\n",
       "      <td>52.35625</td>\n",
       "      <td>13.88750</td>\n",
       "    </tr>\n",
       "    <tr>\n",
       "      <th>Czechia</th>\n",
       "      <td>15.0</td>\n",
       "      <td>13.026000</td>\n",
       "      <td>0.347826</td>\n",
       "      <td>12.43</td>\n",
       "      <td>12.700</td>\n",
       "      <td>13.19</td>\n",
       "      <td>13.245</td>\n",
       "      <td>13.47</td>\n",
       "      <td>Developed</td>\n",
       "      <td>NaN</td>\n",
       "      <td>76.76875</td>\n",
       "      <td>55.71250</td>\n",
       "      <td>NaN</td>\n",
       "    </tr>\n",
       "    <tr>\n",
       "      <th>South Sudan</th>\n",
       "      <td>0.0</td>\n",
       "      <td>NaN</td>\n",
       "      <td>NaN</td>\n",
       "      <td>NaN</td>\n",
       "      <td>NaN</td>\n",
       "      <td>NaN</td>\n",
       "      <td>NaN</td>\n",
       "      <td>NaN</td>\n",
       "      <td>Developing</td>\n",
       "      <td>1092.233631</td>\n",
       "      <td>53.87500</td>\n",
       "      <td>NaN</td>\n",
       "      <td>1.53125</td>\n",
       "    </tr>\n",
       "  </tbody>\n",
       "</table>\n",
       "<p>96 rows × 13 columns</p>\n",
       "</div>"
      ],
      "text/plain": [
       "              count       mean       std    min     25%    50%     75%    max  \\\n",
       "Country                                                                         \n",
       "Indonesia      15.0   0.068667  0.013558   0.05   0.060   0.06   0.080   0.09   \n",
       "Saudi Arabia   15.0   0.074667  0.019952   0.05   0.050   0.09   0.090   0.10   \n",
       "Egypt          15.0   0.188667  0.035429   0.14   0.155   0.21   0.215   0.24   \n",
       "Senegal        15.0   0.309333  0.032834   0.26   0.280   0.32   0.335   0.36   \n",
       "Djibouti       15.0   0.764000  0.349873   0.38   0.470   0.53   1.025   1.34   \n",
       "...             ...        ...       ...    ...     ...    ...     ...    ...   \n",
       "France         15.0  12.404667  0.936695  11.10  11.750  12.20  13.335  13.89   \n",
       "Austria        15.0  12.236000  0.408705  11.30  12.070  12.26  12.400  13.20   \n",
       "Croatia        15.0  12.448000  0.666207  11.49  12.080  12.21  12.920  13.78   \n",
       "Czechia        15.0  13.026000  0.347826  12.43  12.700  13.19  13.245  13.47   \n",
       "South Sudan     0.0        NaN       NaN    NaN     NaN    NaN     NaN    NaN   \n",
       "\n",
       "                  Status           GDP  Life expectancy       BMI  Schooling  \n",
       "Country                                                                       \n",
       "Indonesia     Developing   1669.116783         67.55625  19.95625   11.61250  \n",
       "Saudi Arabia  Developing  10689.052946         73.46875  55.31250   13.28750  \n",
       "Egypt         Developing           NaN         71.50000  49.26250   11.89375  \n",
       "Senegal       Developing    274.611166         62.56875  18.44375    7.12500  \n",
       "Djibouti      Developing    897.999871         60.75625  26.25000    4.75000  \n",
       "...                  ...           ...              ...       ...        ...  \n",
       "France        Developing  26465.551381         82.21875  51.98125   15.90000  \n",
       "Austria        Developed  33827.476309         81.48125  48.28750   15.38750  \n",
       "Croatia        Developed   9056.784719         76.11875  52.35625   13.88750  \n",
       "Czechia        Developed           NaN         76.76875  55.71250        NaN  \n",
       "South Sudan   Developing   1092.233631         53.87500       NaN    1.53125  \n",
       "\n",
       "[96 rows x 13 columns]"
      ]
     },
     "execution_count": 47,
     "metadata": {},
     "output_type": "execute_result"
    }
   ],
   "source": [
    "# Do these last, these are copies of the alc sum table grouped by Status\n",
    "devd_alc_sum_table = alc_sum_table.loc[alc_sum_table['Status'] == 'Developed']\n",
    "deving_alc_sum_table = alc_sum_table.loc[alc_sum_table['Status'] == 'Developing']\n",
    "alc_sum_table\n",
    "\n",
    "# run for any null values? Wait to run this\n",
    "# drop_em = drop_em.dropna(axis='index', how='any')"
   ]
  },
  {
   "cell_type": "code",
   "execution_count": 48,
   "id": "fe55d94d-4166-4695-8590-cee32379ff82",
   "metadata": {
    "tags": []
   },
   "outputs": [
    {
     "data": {
      "text/html": [
       "<div>\n",
       "<style scoped>\n",
       "    .dataframe tbody tr th:only-of-type {\n",
       "        vertical-align: middle;\n",
       "    }\n",
       "\n",
       "    .dataframe tbody tr th {\n",
       "        vertical-align: top;\n",
       "    }\n",
       "\n",
       "    .dataframe thead th {\n",
       "        text-align: right;\n",
       "    }\n",
       "</style>\n",
       "<table border=\"1\" class=\"dataframe\">\n",
       "  <thead>\n",
       "    <tr style=\"text-align: right;\">\n",
       "      <th></th>\n",
       "      <th>count</th>\n",
       "      <th>mean</th>\n",
       "      <th>std</th>\n",
       "      <th>min</th>\n",
       "      <th>25%</th>\n",
       "      <th>50%</th>\n",
       "      <th>75%</th>\n",
       "      <th>max</th>\n",
       "      <th>Status</th>\n",
       "      <th>GDP</th>\n",
       "      <th>Life expectancy</th>\n",
       "      <th>BMI</th>\n",
       "      <th>Schooling</th>\n",
       "    </tr>\n",
       "    <tr>\n",
       "      <th>Country</th>\n",
       "      <th></th>\n",
       "      <th></th>\n",
       "      <th></th>\n",
       "      <th></th>\n",
       "      <th></th>\n",
       "      <th></th>\n",
       "      <th></th>\n",
       "      <th></th>\n",
       "      <th></th>\n",
       "      <th></th>\n",
       "      <th></th>\n",
       "      <th></th>\n",
       "      <th></th>\n",
       "    </tr>\n",
       "  </thead>\n",
       "  <tbody>\n",
       "    <tr>\n",
       "      <th>Indonesia</th>\n",
       "      <td>15.0</td>\n",
       "      <td>0.068667</td>\n",
       "      <td>0.013558</td>\n",
       "      <td>0.05</td>\n",
       "      <td>0.060</td>\n",
       "      <td>0.06</td>\n",
       "      <td>0.080</td>\n",
       "      <td>0.09</td>\n",
       "      <td>Developing</td>\n",
       "      <td>1669.116783</td>\n",
       "      <td>67.55625</td>\n",
       "      <td>19.95625</td>\n",
       "      <td>11.61250</td>\n",
       "    </tr>\n",
       "    <tr>\n",
       "      <th>Saudi Arabia</th>\n",
       "      <td>15.0</td>\n",
       "      <td>0.074667</td>\n",
       "      <td>0.019952</td>\n",
       "      <td>0.05</td>\n",
       "      <td>0.050</td>\n",
       "      <td>0.09</td>\n",
       "      <td>0.090</td>\n",
       "      <td>0.10</td>\n",
       "      <td>Developing</td>\n",
       "      <td>10689.052946</td>\n",
       "      <td>73.46875</td>\n",
       "      <td>55.31250</td>\n",
       "      <td>13.28750</td>\n",
       "    </tr>\n",
       "    <tr>\n",
       "      <th>Egypt</th>\n",
       "      <td>15.0</td>\n",
       "      <td>0.188667</td>\n",
       "      <td>0.035429</td>\n",
       "      <td>0.14</td>\n",
       "      <td>0.155</td>\n",
       "      <td>0.21</td>\n",
       "      <td>0.215</td>\n",
       "      <td>0.24</td>\n",
       "      <td>Developing</td>\n",
       "      <td>NaN</td>\n",
       "      <td>71.50000</td>\n",
       "      <td>49.26250</td>\n",
       "      <td>11.89375</td>\n",
       "    </tr>\n",
       "    <tr>\n",
       "      <th>Senegal</th>\n",
       "      <td>15.0</td>\n",
       "      <td>0.309333</td>\n",
       "      <td>0.032834</td>\n",
       "      <td>0.26</td>\n",
       "      <td>0.280</td>\n",
       "      <td>0.32</td>\n",
       "      <td>0.335</td>\n",
       "      <td>0.36</td>\n",
       "      <td>Developing</td>\n",
       "      <td>274.611166</td>\n",
       "      <td>62.56875</td>\n",
       "      <td>18.44375</td>\n",
       "      <td>7.12500</td>\n",
       "    </tr>\n",
       "    <tr>\n",
       "      <th>Djibouti</th>\n",
       "      <td>15.0</td>\n",
       "      <td>0.764000</td>\n",
       "      <td>0.349873</td>\n",
       "      <td>0.38</td>\n",
       "      <td>0.470</td>\n",
       "      <td>0.53</td>\n",
       "      <td>1.025</td>\n",
       "      <td>1.34</td>\n",
       "      <td>Developing</td>\n",
       "      <td>897.999871</td>\n",
       "      <td>60.75625</td>\n",
       "      <td>26.25000</td>\n",
       "      <td>4.75000</td>\n",
       "    </tr>\n",
       "    <tr>\n",
       "      <th>...</th>\n",
       "      <td>...</td>\n",
       "      <td>...</td>\n",
       "      <td>...</td>\n",
       "      <td>...</td>\n",
       "      <td>...</td>\n",
       "      <td>...</td>\n",
       "      <td>...</td>\n",
       "      <td>...</td>\n",
       "      <td>...</td>\n",
       "      <td>...</td>\n",
       "      <td>...</td>\n",
       "      <td>...</td>\n",
       "      <td>...</td>\n",
       "    </tr>\n",
       "    <tr>\n",
       "      <th>France</th>\n",
       "      <td>15.0</td>\n",
       "      <td>12.404667</td>\n",
       "      <td>0.936695</td>\n",
       "      <td>11.10</td>\n",
       "      <td>11.750</td>\n",
       "      <td>12.20</td>\n",
       "      <td>13.335</td>\n",
       "      <td>13.89</td>\n",
       "      <td>Developing</td>\n",
       "      <td>26465.551381</td>\n",
       "      <td>82.21875</td>\n",
       "      <td>51.98125</td>\n",
       "      <td>15.90000</td>\n",
       "    </tr>\n",
       "    <tr>\n",
       "      <th>Austria</th>\n",
       "      <td>15.0</td>\n",
       "      <td>12.236000</td>\n",
       "      <td>0.408705</td>\n",
       "      <td>11.30</td>\n",
       "      <td>12.070</td>\n",
       "      <td>12.26</td>\n",
       "      <td>12.400</td>\n",
       "      <td>13.20</td>\n",
       "      <td>Developed</td>\n",
       "      <td>33827.476309</td>\n",
       "      <td>81.48125</td>\n",
       "      <td>48.28750</td>\n",
       "      <td>15.38750</td>\n",
       "    </tr>\n",
       "    <tr>\n",
       "      <th>Croatia</th>\n",
       "      <td>15.0</td>\n",
       "      <td>12.448000</td>\n",
       "      <td>0.666207</td>\n",
       "      <td>11.49</td>\n",
       "      <td>12.080</td>\n",
       "      <td>12.21</td>\n",
       "      <td>12.920</td>\n",
       "      <td>13.78</td>\n",
       "      <td>Developed</td>\n",
       "      <td>9056.784719</td>\n",
       "      <td>76.11875</td>\n",
       "      <td>52.35625</td>\n",
       "      <td>13.88750</td>\n",
       "    </tr>\n",
       "    <tr>\n",
       "      <th>Czechia</th>\n",
       "      <td>15.0</td>\n",
       "      <td>13.026000</td>\n",
       "      <td>0.347826</td>\n",
       "      <td>12.43</td>\n",
       "      <td>12.700</td>\n",
       "      <td>13.19</td>\n",
       "      <td>13.245</td>\n",
       "      <td>13.47</td>\n",
       "      <td>Developed</td>\n",
       "      <td>NaN</td>\n",
       "      <td>76.76875</td>\n",
       "      <td>55.71250</td>\n",
       "      <td>NaN</td>\n",
       "    </tr>\n",
       "    <tr>\n",
       "      <th>South Sudan</th>\n",
       "      <td>0.0</td>\n",
       "      <td>NaN</td>\n",
       "      <td>NaN</td>\n",
       "      <td>NaN</td>\n",
       "      <td>NaN</td>\n",
       "      <td>NaN</td>\n",
       "      <td>NaN</td>\n",
       "      <td>NaN</td>\n",
       "      <td>Developing</td>\n",
       "      <td>1092.233631</td>\n",
       "      <td>53.87500</td>\n",
       "      <td>NaN</td>\n",
       "      <td>1.53125</td>\n",
       "    </tr>\n",
       "  </tbody>\n",
       "</table>\n",
       "<p>96 rows × 13 columns</p>\n",
       "</div>"
      ],
      "text/plain": [
       "              count       mean       std    min     25%    50%     75%    max  \\\n",
       "Country                                                                         \n",
       "Indonesia      15.0   0.068667  0.013558   0.05   0.060   0.06   0.080   0.09   \n",
       "Saudi Arabia   15.0   0.074667  0.019952   0.05   0.050   0.09   0.090   0.10   \n",
       "Egypt          15.0   0.188667  0.035429   0.14   0.155   0.21   0.215   0.24   \n",
       "Senegal        15.0   0.309333  0.032834   0.26   0.280   0.32   0.335   0.36   \n",
       "Djibouti       15.0   0.764000  0.349873   0.38   0.470   0.53   1.025   1.34   \n",
       "...             ...        ...       ...    ...     ...    ...     ...    ...   \n",
       "France         15.0  12.404667  0.936695  11.10  11.750  12.20  13.335  13.89   \n",
       "Austria        15.0  12.236000  0.408705  11.30  12.070  12.26  12.400  13.20   \n",
       "Croatia        15.0  12.448000  0.666207  11.49  12.080  12.21  12.920  13.78   \n",
       "Czechia        15.0  13.026000  0.347826  12.43  12.700  13.19  13.245  13.47   \n",
       "South Sudan     0.0        NaN       NaN    NaN     NaN    NaN     NaN    NaN   \n",
       "\n",
       "                  Status           GDP  Life expectancy       BMI  Schooling  \n",
       "Country                                                                       \n",
       "Indonesia     Developing   1669.116783         67.55625  19.95625   11.61250  \n",
       "Saudi Arabia  Developing  10689.052946         73.46875  55.31250   13.28750  \n",
       "Egypt         Developing           NaN         71.50000  49.26250   11.89375  \n",
       "Senegal       Developing    274.611166         62.56875  18.44375    7.12500  \n",
       "Djibouti      Developing    897.999871         60.75625  26.25000    4.75000  \n",
       "...                  ...           ...              ...       ...        ...  \n",
       "France        Developing  26465.551381         82.21875  51.98125   15.90000  \n",
       "Austria        Developed  33827.476309         81.48125  48.28750   15.38750  \n",
       "Croatia        Developed   9056.784719         76.11875  52.35625   13.88750  \n",
       "Czechia        Developed           NaN         76.76875  55.71250        NaN  \n",
       "South Sudan   Developing   1092.233631         53.87500       NaN    1.53125  \n",
       "\n",
       "[96 rows x 13 columns]"
      ]
     },
     "execution_count": 48,
     "metadata": {},
     "output_type": "execute_result"
    }
   ],
   "source": [
    "# Do these last, these are copies of the alc sum table grouped by Status\n",
    "devd_alc_sum_table = alc_sum_table.loc[alc_sum_table['Status'] == 'Developed']\n",
    "deving_alc_sum_table = alc_sum_table.loc[alc_sum_table['Status'] == 'Developing']\n",
    "alc_sum_table\n",
    "\n",
    "# run for any null values? Wait to run this\n",
    "# drop_em = drop_em.dropna(axis='index', how='any')"
   ]
  },
  {
   "cell_type": "code",
   "execution_count": 49,
   "id": "7cfdd1e4-59b6-4844-8cc8-bdf40b7facf8",
   "metadata": {},
   "outputs": [
    {
     "data": {
      "text/plain": [
       "<matplotlib.collections.PathCollection at 0x2e57d0d8370>"
      ]
     },
     "execution_count": 49,
     "metadata": {},
     "output_type": "execute_result"
    },
    {
     "data": {
      "image/png": "[encoded data removed]",
      "text/plain": [
       "<Figure size 432x288 with 1 Axes>"
      ]
     },
     "metadata": {
      "needs_background": "light"
     },
     "output_type": "display_data"
    }
   ],
   "source": [
    "# Alcohol consumption x, GDP y\n",
    "plt.scatter(deving_alc_sum_table.iloc[:,1], deving_alc_sum_table.iloc[:,9])\n",
    "plt.scatter(devd_alc_sum_table.iloc[:,1], devd_alc_sum_table.iloc[:,9])"
   ]
  },
  {
   "cell_type": "code",
   "execution_count": 50,
   "id": "e9907a9c-b06c-446e-a350-7142b0c30773",
   "metadata": {},
   "outputs": [
    {
     "data": {
      "text/plain": [
       "<matplotlib.collections.PathCollection at 0x2e57d0d84f0>"
      ]
     },
     "execution_count": 50,
     "metadata": {},
     "output_type": "execute_result"
    },
    {
     "data": {
      "image/png": "[encoded data removed]",
      "text/plain": [
       "<Figure size 432x288 with 1 Axes>"
      ]
     },
     "metadata": {
      "needs_background": "light"
     },
     "output_type": "display_data"
    }
   ],
   "source": [
    "plt.scatter(deving_alc_sum_table.iloc[:,1], deving_alc_sum_table.iloc[:,9])"
   ]
  },
  {
   "cell_type": "code",
   "execution_count": 51,
   "id": "e0a71305-f1e0-4472-afce-8e6bc43a2491",
   "metadata": {},
   "outputs": [
    {
     "data": {
      "text/plain": [
       "<matplotlib.collections.PathCollection at 0x2e57e3a3070>"
      ]
     },
     "execution_count": 51,
     "metadata": {},
     "output_type": "execute_result"
    },
    {
     "data": {
      "image/png": "[encoded data removed]",
      "text/plain": [
       "<Figure size 432x288 with 1 Axes>"
      ]
     },
     "metadata": {
      "needs_background": "light"
     },
     "output_type": "display_data"
    }
   ],
   "source": [
    "plt.scatter(devd_alc_sum_table.iloc[:,1], devd_alc_sum_table.iloc[:,9])"
   ]
  },
  {
   "cell_type": "code",
   "execution_count": null,
   "id": "cd91cb67-2a27-44b6-86f4-b7703c1d98fa",
   "metadata": {},
   "outputs": [],
   "source": []
  },
  {
   "cell_type": "code",
   "execution_count": 52,
   "id": "7a893ca3-d8a5-4f54-b88e-4b0fd593a128",
   "metadata": {},
   "outputs": [
    {
     "data": {
      "text/plain": [
       "<matplotlib.collections.PathCollection at 0x2e57e3d1910>"
      ]
     },
     "execution_count": 52,
     "metadata": {},
     "output_type": "execute_result"
    },
    {
     "data": {
      "image/png": "[encoded data removed]",
      "text/plain": [
       "<Figure size 432x288 with 1 Axes>"
      ]
     },
     "metadata": {
      "needs_background": "light"
     },
     "output_type": "display_data"
    }
   ],
   "source": [
    "# compared to LE\n",
    "plt.scatter(deving_alc_sum_table.iloc[:,1], deving_alc_sum_table.iloc[:,10])\n",
    "plt.scatter(devd_alc_sum_table.iloc[:,1], devd_alc_sum_table.iloc[:,10])"
   ]
  },
  {
   "cell_type": "code",
   "execution_count": 53,
   "id": "3de2caf8-9209-4d0e-a676-d8dc030c63ec",
   "metadata": {},
   "outputs": [
    {
     "data": {
      "text/plain": [
       "<matplotlib.collections.PathCollection at 0x2e57e454b80>"
      ]
     },
     "execution_count": 53,
     "metadata": {},
     "output_type": "execute_result"
    },
    {
     "data": {
      "image/png": "[encoded data removed]",
      "text/plain": [
       "<Figure size 432x288 with 1 Axes>"
      ]
     },
     "metadata": {
      "needs_background": "light"
     },
     "output_type": "display_data"
    }
   ],
   "source": [
    "plt.scatter(deving_alc_sum_table.iloc[:,1], deving_alc_sum_table.iloc[:,10])"
   ]
  },
  {
   "cell_type": "code",
   "execution_count": 54,
   "id": "ed46a55f-4d0e-4347-be10-72d54a571e81",
   "metadata": {},
   "outputs": [
    {
     "data": {
      "text/plain": [
       "<matplotlib.collections.PathCollection at 0x2e57e528160>"
      ]
     },
     "execution_count": 54,
     "metadata": {},
     "output_type": "execute_result"
    },
    {
     "data": {
      "image/png": "[encoded data removed]",
      "text/plain": [
       "<Figure size 432x288 with 1 Axes>"
      ]
     },
     "metadata": {
      "needs_background": "light"
     },
     "output_type": "display_data"
    }
   ],
   "source": [
    "plt.scatter(devd_alc_sum_table.iloc[:,1], devd_alc_sum_table.iloc[:,10])"
   ]
  },
  {
   "cell_type": "code",
   "execution_count": null,
   "id": "bd36a88e-ce3c-49f6-95e4-bb2879587fee",
   "metadata": {},
   "outputs": [],
   "source": []
  },
  {
   "cell_type": "code",
   "execution_count": 55,
   "id": "4cd3435f-d9be-48ef-95d9-ebcbc5dbb367",
   "metadata": {},
   "outputs": [
    {
     "data": {
      "text/plain": [
       "<matplotlib.collections.PathCollection at 0x2e57e536520>"
      ]
     },
     "execution_count": 55,
     "metadata": {},
     "output_type": "execute_result"
    },
    {
     "data": {
      "image/png": "[encoded data removed]",
      "text/plain": [
       "<Figure size 432x288 with 1 Axes>"
      ]
     },
     "metadata": {
      "needs_background": "light"
     },
     "output_type": "display_data"
    }
   ],
   "source": [
    "# Compared to BMI\n",
    "plt.scatter(deving_alc_sum_table.iloc[:,1], deving_alc_sum_table.iloc[:,11])\n",
    "plt.scatter(devd_alc_sum_table.iloc[:,1], devd_alc_sum_table.iloc[:,11])"
   ]
  },
  {
   "cell_type": "code",
   "execution_count": 56,
   "id": "aae67809-bfac-431a-8bbc-f2b087bb211a",
   "metadata": {},
   "outputs": [
    {
     "data": {
      "text/plain": [
       "<matplotlib.collections.PathCollection at 0x2e57e3706d0>"
      ]
     },
     "execution_count": 56,
     "metadata": {},
     "output_type": "execute_result"
    },
    {
     "data": {
      "image/png": "[encoded data removed]",
      "text/plain": [
       "<Figure size 432x288 with 1 Axes>"
      ]
     },
     "metadata": {
      "needs_background": "light"
     },
     "output_type": "display_data"
    }
   ],
   "source": [
    "plt.scatter(deving_alc_sum_table.iloc[:,1], deving_alc_sum_table.iloc[:,11])"
   ]
  },
  {
   "cell_type": "code",
   "execution_count": 57,
   "id": "93a9801f-93a1-452d-8c53-c5908e7107c9",
   "metadata": {
    "tags": []
   },
   "outputs": [
    {
     "data": {
      "text/plain": [
       "<matplotlib.collections.PathCollection at 0x2e57e5b7a90>"
      ]
     },
     "execution_count": 57,
     "metadata": {},
     "output_type": "execute_result"
    },
    {
     "data": {
      "image/png": "[encoded data removed]",
      "text/plain": [
       "<Figure size 432x288 with 1 Axes>"
      ]
     },
     "metadata": {
      "needs_background": "light"
     },
     "output_type": "display_data"
    }
   ],
   "source": [
    "plt.scatter(devd_alc_sum_table.iloc[:,1], devd_alc_sum_table.iloc[:,11])"
   ]
  },
  {
   "cell_type": "code",
   "execution_count": null,
   "id": "6b3e6a13-8988-4c0d-ad8a-2aed64b052a6",
   "metadata": {},
   "outputs": [],
   "source": []
  },
  {
   "cell_type": "code",
   "execution_count": 58,
   "id": "e44c74e0-7c9e-4679-af64-51bce71c8a0a",
   "metadata": {},
   "outputs": [
    {
     "data": {
      "text/plain": [
       "<matplotlib.collections.PathCollection at 0x2e57e64b8e0>"
      ]
     },
     "execution_count": 58,
     "metadata": {},
     "output_type": "execute_result"
    },
    {
     "data": {
      "image/png": "[encoded data removed]",
      "text/plain": [
       "<Figure size 432x288 with 1 Axes>"
      ]
     },
     "metadata": {
      "needs_background": "light"
     },
     "output_type": "display_data"
    }
   ],
   "source": [
    "# Compared to BMI\n",
    "plt.scatter(deving_alc_sum_table.iloc[:,1], deving_alc_sum_table.iloc[:,12])\n",
    "plt.scatter(devd_alc_sum_table.iloc[:,1], devd_alc_sum_table.iloc[:,12])"
   ]
  },
  {
   "cell_type": "code",
   "execution_count": 59,
   "id": "296c58f3-29b8-46cc-92e9-d8921de1a296",
   "metadata": {},
   "outputs": [
    {
     "data": {
      "text/plain": [
       "<matplotlib.collections.PathCollection at 0x2e57e6df4c0>"
      ]
     },
     "execution_count": 59,
     "metadata": {},
     "output_type": "execute_result"
    },
    {
     "data": {
      "image/png": "[encoded data removed]",
      "text/plain": [
       "<Figure size 432x288 with 1 Axes>"
      ]
     },
     "metadata": {
      "needs_background": "light"
     },
     "output_type": "display_data"
    }
   ],
   "source": [
    "plt.scatter(deving_alc_sum_table.iloc[:,1], deving_alc_sum_table.iloc[:,12])"
   ]
  },
  {
   "cell_type": "code",
   "execution_count": 60,
   "id": "14d1da3d-802b-4c30-b968-4936e931e951",
   "metadata": {},
   "outputs": [
    {
     "data": {
      "text/plain": [
       "<matplotlib.collections.PathCollection at 0x2e57e737820>"
      ]
     },
     "execution_count": 60,
     "metadata": {},
     "output_type": "execute_result"
    },
    {
     "data": {
      "image/png": "[encoded data removed]",
      "text/plain": [
       "<Figure size 432x288 with 1 Axes>"
      ]
     },
     "metadata": {
      "needs_background": "light"
     },
     "output_type": "display_data"
    }
   ],
   "source": [
    "plt.scatter(devd_alc_sum_table.iloc[:,1], devd_alc_sum_table.iloc[:,12])"
   ]
  },
  {
   "cell_type": "code",
   "execution_count": null,
   "id": "9ba2bb72-61e2-4960-890e-46792effd132",
   "metadata": {},
   "outputs": [],
   "source": []
  },
  {
   "cell_type": "code",
   "execution_count": null,
   "id": "aa498bd1-533f-40ad-b67d-6476043f04a6",
   "metadata": {},
   "outputs": [],
   "source": []
  },
  {
   "cell_type": "code",
   "execution_count": null,
   "id": "295b3be3-ab7f-4148-ba75-18afaf5325a8",
   "metadata": {},
   "outputs": [],
   "source": []
  },
  {
   "cell_type": "code",
   "execution_count": null,
   "id": "77497b20-b2f0-4271-b805-ccad61ca6c23",
   "metadata": {},
   "outputs": [],
   "source": []
  },
  {
   "cell_type": "code",
   "execution_count": null,
   "id": "7418011f-2bf8-416f-bb23-1651e931302b",
   "metadata": {},
   "outputs": [],
   "source": []
  }
 ],
 "metadata": {
  "kernelspec": {
   "display_name": "Python 3",
   "language": "python",
   "name": "python3"
  },
  "language_info": {
   "codemirror_mode": {
    "name": "ipython",
    "version": 3
   },
   "file_extension": ".py",
   "mimetype": "text/x-python",
   "name": "python",
   "nbconvert_exporter": "python",
   "pygments_lexer": "ipython3",
   "version": "3.8.8"
  }
 },
 "nbformat": 4,
 "nbformat_minor": 5
}
