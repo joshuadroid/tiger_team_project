{
 "cells": [
  {
   "cell_type": "code",
   "execution_count": 2,
   "metadata": {},
   "outputs": [],
   "source": [
    "import matplotlib.pyplot as plt\n",
    "import pandas as pd\n",
    "import scipy.stats as st\n",
    "import numpy as np\n",
    "from scipy.stats import linregress"
   ]
  },
  {
   "cell_type": "markdown",
   "metadata": {},
   "source": [
    "Life Expectancy: Project examines changes in life exectancy over the data timeframe and reviews certain contributing factors.\n"
   ]
  },
  {
   "cell_type": "code",
   "execution_count": null,
   "metadata": {},
   "outputs": [],
   "source": [
    "life_expectancy_path = \"life_expectancy.csv\"\n",
    "\n",
    "life_expectancy_data = pd.read_csv(life_expectancy_path)\n",
    "\n",
    "life_expectancy_data"
   ]
  },
  {
   "cell_type": "code",
   "execution_count": 4,
   "metadata": {},
   "outputs": [
    {
     "data": {
      "text/plain": [
       "pandas.core.frame.DataFrame"
      ]
     },
     "execution_count": 4,
     "metadata": {},
     "output_type": "execute_result"
    }
   ],
   "source": [
    "life_exp_df = life_expectancy_data.copy()\n",
    "\n",
    "type(life_exp_df)"
   ]
  },
  {
   "cell_type": "code",
   "execution_count": 5,
   "metadata": {},
   "outputs": [
    {
     "data": {
      "text/plain": [
       "Index(['Country', 'Year', 'Status', 'Life expectancy ', 'Adult Mortality',\n",
       "       'infant deaths', 'Alcohol', 'percentage expenditure', 'Hepatitis B',\n",
       "       'Measles ', ' BMI ', 'under-five deaths ', 'Polio', 'Total expenditure',\n",
       "       'Diphtheria ', ' HIV/AIDS', 'GDP', 'Population',\n",
       "       ' thinness  1-19 years', ' thinness 5-9 years',\n",
       "       'Income composition of resources', 'Schooling'],\n",
       "      dtype='object')"
      ]
     },
     "execution_count": 5,
     "metadata": {},
     "output_type": "execute_result"
    }
   ],
   "source": [
    "life_exp_df.columns"
   ]
  },
  {
   "cell_type": "code",
   "execution_count": null,
   "metadata": {},
   "outputs": [],
   "source": [
    "\n",
    "reduced_df = life_exp_df[['Country', 'Year', 'Status', 'Life expectancy ',\n",
    "       'Alcohol', ' BMI ', 'Total expenditure','GDP', 'Population',\n",
    "       'Income composition of resources', 'Schooling']]\n",
    "\n",
    "reduced_df.columns = [col.strip() for col in reduced_df.columns]\n",
    "\n",
    "reduced_df"
   ]
  },
  {
   "cell_type": "code",
   "execution_count": null,
   "metadata": {},
   "outputs": [],
   "source": [
    "pd.set_option('display.max_rows', None)\n",
    "reduced_df['Country'].value_counts()"
   ]
  },
  {
   "cell_type": "code",
   "execution_count": null,
   "metadata": {},
   "outputs": [],
   "source": [
    "drop_countries = ['San Marino', 'Marshall Islands', 'Cook Islands', 'Saint Kitts and Nevis', 'Niue', 'Palau', 'Dominica', 'Monaco', 'Nauru',\n",
    "                  'Tuvalu']\n",
    "\n",
    "for country in drop_countries:\n",
    "    reduced_df.drop(reduced_df[reduced_df['Country'] == country].index, inplace=True)\n",
    "    \n",
    "reduced_df['Country'].value_counts()  "
   ]
  },
  {
   "cell_type": "code",
   "execution_count": null,
   "metadata": {},
   "outputs": [],
   "source": [
    "reduced_df.groupby(\"Country\").count() "
   ]
  },
  {
   "cell_type": "code",
   "execution_count": null,
   "metadata": {},
   "outputs": [],
   "source": [
    "#Create dataframe to focus on life expectancy data\n",
    "status_df = reduced_df.groupby(['Year', 'Status'], as_index=False)['Life expectancy'].mean()\n",
    "\n",
    "year_df = pd.DataFrame(status_df)\n",
    "\n",
    "year_df"
   ]
  },
  {
   "cell_type": "code",
   "execution_count": 17,
   "metadata": {},
   "outputs": [
    {
     "data": {
      "text/html": [
       "<div>\n",
       "<style scoped>\n",
       "    .dataframe tbody tr th:only-of-type {\n",
       "        vertical-align: middle;\n",
       "    }\n",
       "\n",
       "    .dataframe tbody tr th {\n",
       "        vertical-align: top;\n",
       "    }\n",
       "\n",
       "    .dataframe thead th {\n",
       "        text-align: right;\n",
       "    }\n",
       "</style>\n",
       "<table border=\"1\" class=\"dataframe\">\n",
       "  <thead>\n",
       "    <tr style=\"text-align: right;\">\n",
       "      <th>Status</th>\n",
       "      <th>Developed</th>\n",
       "      <th>Developing</th>\n",
       "    </tr>\n",
       "    <tr>\n",
       "      <th>Year</th>\n",
       "      <th></th>\n",
       "      <th></th>\n",
       "    </tr>\n",
       "  </thead>\n",
       "  <tbody>\n",
       "    <tr>\n",
       "      <th>2000</th>\n",
       "      <td>76.803125</td>\n",
       "      <td>64.619868</td>\n",
       "    </tr>\n",
       "    <tr>\n",
       "      <th>2001</th>\n",
       "      <td>77.128125</td>\n",
       "      <td>65.009934</td>\n",
       "    </tr>\n",
       "    <tr>\n",
       "      <th>2002</th>\n",
       "      <td>77.546875</td>\n",
       "      <td>65.190728</td>\n",
       "    </tr>\n",
       "    <tr>\n",
       "      <th>2003</th>\n",
       "      <td>77.940625</td>\n",
       "      <td>65.206623</td>\n",
       "    </tr>\n",
       "    <tr>\n",
       "      <th>2004</th>\n",
       "      <td>78.384375</td>\n",
       "      <td>65.370861</td>\n",
       "    </tr>\n",
       "    <tr>\n",
       "      <th>2005</th>\n",
       "      <td>78.590625</td>\n",
       "      <td>66.009272</td>\n",
       "    </tr>\n",
       "    <tr>\n",
       "      <th>2006</th>\n",
       "      <td>79.131250</td>\n",
       "      <td>66.450331</td>\n",
       "    </tr>\n",
       "    <tr>\n",
       "      <th>2007</th>\n",
       "      <td>79.300000</td>\n",
       "      <td>66.860927</td>\n",
       "    </tr>\n",
       "    <tr>\n",
       "      <th>2008</th>\n",
       "      <td>78.931250</td>\n",
       "      <td>67.413907</td>\n",
       "    </tr>\n",
       "    <tr>\n",
       "      <th>2009</th>\n",
       "      <td>79.584375</td>\n",
       "      <td>67.894040</td>\n",
       "    </tr>\n",
       "    <tr>\n",
       "      <th>2010</th>\n",
       "      <td>80.146875</td>\n",
       "      <td>67.908609</td>\n",
       "    </tr>\n",
       "    <tr>\n",
       "      <th>2011</th>\n",
       "      <td>80.706250</td>\n",
       "      <td>68.523841</td>\n",
       "    </tr>\n",
       "    <tr>\n",
       "      <th>2012</th>\n",
       "      <td>80.443750</td>\n",
       "      <td>68.898013</td>\n",
       "    </tr>\n",
       "    <tr>\n",
       "      <th>2013</th>\n",
       "      <td>80.681250</td>\n",
       "      <td>69.234437</td>\n",
       "    </tr>\n",
       "    <tr>\n",
       "      <th>2014</th>\n",
       "      <td>81.137500</td>\n",
       "      <td>69.501987</td>\n",
       "    </tr>\n",
       "    <tr>\n",
       "      <th>2015</th>\n",
       "      <td>80.709375</td>\n",
       "      <td>69.690066</td>\n",
       "    </tr>\n",
       "  </tbody>\n",
       "</table>\n",
       "</div>"
      ],
      "text/plain": [
       "Status  Developed  Developing\n",
       "Year                         \n",
       "2000    76.803125   64.619868\n",
       "2001    77.128125   65.009934\n",
       "2002    77.546875   65.190728\n",
       "2003    77.940625   65.206623\n",
       "2004    78.384375   65.370861\n",
       "2005    78.590625   66.009272\n",
       "2006    79.131250   66.450331\n",
       "2007    79.300000   66.860927\n",
       "2008    78.931250   67.413907\n",
       "2009    79.584375   67.894040\n",
       "2010    80.146875   67.908609\n",
       "2011    80.706250   68.523841\n",
       "2012    80.443750   68.898013\n",
       "2013    80.681250   69.234437\n",
       "2014    81.137500   69.501987\n",
       "2015    80.709375   69.690066"
      ]
     },
     "execution_count": 17,
     "metadata": {},
     "output_type": "execute_result"
    }
   ],
   "source": [
    "#Create pivot to plot life expectancy change over the data timeframe\n",
    "years_df = year_df.pivot_table(index=['Year'], columns=['Status'], values = 'Life expectancy')\n",
    "\n",
    "years_final_df = pd.DataFrame(years_df)\n",
    "\n",
    "years_final_df"
   ]
  },
  {
   "cell_type": "code",
   "execution_count": 12,
   "metadata": {},
   "outputs": [
    {
     "data": {
      "image/png": "[encoded data removed]",
      "text/plain": [
       "<Figure size 432x288 with 1 Axes>"
      ]
     },
     "metadata": {
      "needs_background": "light"
     },
     "output_type": "display_data"
    }
   ],
   "source": [
    "#Create line chart to display life expectancy trend over data years \n",
    "plt.plot(years_final_df)\n",
    "plt.title(\"Change in Life Expectancy (2000 - 2015)\")\n",
    "plt.xlabel(\"Year\")\n",
    "plt.ylabel(\"Life Expectancy (yrs)\")\n",
    "plt.legend(['Developed', 'Developing'], loc=\"best\")\n",
    "\n",
    "plt.savefig(\"Life Expectancy Trend.png\")\n",
    "\n",
    "plt.show()"
   ]
  },
  {
   "cell_type": "code",
   "execution_count": null,
   "metadata": {},
   "outputs": [],
   "source": [
    "#create dataframe for percent change in life expectancy from year to year\n",
    "pct_change = years_final_df.pct_change()\n",
    "\n",
    "pct_change['Developed'] = pct_change['Developed'].fillna(0)\n",
    "pct_change['Developing'] = pct_change['Developing'].fillna(0)\n",
    "pct_change['Developed'] = pct_change['Developed'].astype(float) * 100\n",
    "pct_change['Developing'] = pct_change['Developing'].astype(float) * 100\n",
    "           \n",
    "pct_change"
   ]
  },
  {
   "cell_type": "code",
   "execution_count": 14,
   "metadata": {},
   "outputs": [
    {
     "data": {
      "image/png": "[encoded data removed]",
      "text/plain": [
       "<Figure size 432x288 with 1 Axes>"
      ]
     },
     "metadata": {
      "needs_background": "light"
     },
     "output_type": "display_data"
    }
   ],
   "source": [
    "#Create line chart for life expectancy yearly percent change\n",
    "plt.plot(pct_change)\n",
    "plt.title(\"% Change in Life Expectancy (2000 - 2015)\")\n",
    "plt.xlabel(\"Year\")\n",
    "plt.ylabel(\"Life Expectancy (% Change)\")\n",
    "plt.legend(['Developed', 'Developing'], loc=\"best\")\n",
    "\n",
    "plt.savefig(\"Life Expectancy % Change.png\")\n",
    "\n",
    "plt.show()"
   ]
  },
  {
   "cell_type": "markdown",
   "metadata": {},
   "source": [
    "Observations: Life Expectancy Trends for Developing and Developed countires (2000 - 2015)\n",
    "\n",
    "1. As expected, Life Expectancy has increased over the period by roughly 3 years for Developed countries and 5 years for Developing countries. \n",
    "2. Although Developed countries have a higher Life Expectancy, Developing countries show a greater increase over the period at 7.8% compared to 5% for Developed countries.\n",
    "3. There is variation in Life Expectancy with 2008 and 2015 showing decreases in Life Expectancy. Further analysis needs to be done to determine what contributing factors led to the decreases for those 2 years."
   ]
  }
 ],
 "metadata": {
  "kernelspec": {
   "display_name": "Python 3",
   "language": "python",
   "name": "python3"
  },
  "language_info": {
   "codemirror_mode": {
    "name": "ipython",
    "version": 3
   },
   "file_extension": ".py",
   "mimetype": "text/x-python",
   "name": "python",
   "nbconvert_exporter": "python",
   "pygments_lexer": "ipython3",
   "version": "3.8.5"
  }
 },
 "nbformat": 4,
 "nbformat_minor": 4
}
