{
 "cells": [
  {
   "cell_type": "code",
   "execution_count": null,
   "id": "4e425f15-2092-44d1-8322-3f5ab4aca44f",
   "metadata": {},
   "outputs": [],
   "source": [
    "import matplotlib.pyplot as plt\n",
    "import pandas as pd\n",
    "import scipy.stats as st\n",
    "import numpy as np\n",
    "from scipy.stats import linregress"
   ]
  },
  {
   "cell_type": "code",
   "execution_count": null,
   "id": "55990e4f-2a06-480b-ace2-e19ce9fed516",
   "metadata": {},
   "outputs": [],
   "source": [
    "life_expectancy_path = \"../life_expectancy.csv\"\n",
    "\n",
    "life_expectancy_data = pd.read_csv(life_expectancy_path)\n",
    "\n",
    "life_expectancy_data"
   ]
  },
  {
   "cell_type": "code",
   "execution_count": null,
   "id": "1f69e824-9613-4876-9137-d0d365c0c1f3",
   "metadata": {},
   "outputs": [],
   "source": [
    "style_dict = {\n",
    "    \"Mean\": \"{:.2f}\", \n",
    "    \"Median\": \"{:.2f}\",\n",
    "    \"Variance\": \"{:.2f}\", \n",
    "    \"Standard Deviation\": \"{:.2f}\",\n",
    "    \"Standard Error\": \"{:.2f}\", \n",
    "    \"mean\": \"{:.2f}\",\n",
    "    \"median\": \"{:.2f}\",\n",
    "    \"var\": \"{:.2f}\",\n",
    "    \"std\": \"{:.2f}\",\n",
    "    \"sem\":\"{:.2f}\",\n",
    "    'GDP': \"{:.3f}\",\n",
    "    \"percentage expenditure\": \"{:.2f}\",\n",
    "}"
   ]
  },
  {
   "cell_type": "code",
   "execution_count": null,
   "id": "407da9e7-37dc-4221-bba2-aa0aa9d8e624",
   "metadata": {},
   "outputs": [],
   "source": [
    "life_exp_df = life_expectancy_data.copy()"
   ]
  },
  {
   "cell_type": "code",
   "execution_count": null,
   "id": "3dcca030-377b-49f1-9401-7e4f911bbc20",
   "metadata": {},
   "outputs": [],
   "source": [
    "life_exp_df.columns"
   ]
  },
  {
   "cell_type": "code",
   "execution_count": null,
   "id": "741a9162-1324-4770-85e2-7b0e6c6428b5",
   "metadata": {},
   "outputs": [],
   "source": [
    "len(life_exp_df[\"Country\"].unique())\n",
    "\n",
    "# 193 Countries"
   ]
  },
  {
   "cell_type": "code",
   "execution_count": null,
   "id": "d030c829-94e9-46cf-bd46-37b512f0584f",
   "metadata": {},
   "outputs": [],
   "source": [
    "reduced_df = life_exp_df[['Country', 'Year', 'Status', 'Life expectancy ',\n",
    "       'Alcohol', ' BMI ', 'Total expenditure','GDP', 'Population',\n",
    "       'Income composition of resources', 'Schooling']].copy()\n",
    "\n",
    "reduced_df.columns = [col.strip() for col in reduced_df.columns]\n",
    "\n",
    "#reduced_df"
   ]
  },
  {
   "cell_type": "code",
   "execution_count": null,
   "id": "f21eb96e-0564-48e8-8262-128a900a564f",
   "metadata": {},
   "outputs": [],
   "source": [
    "drop_countries = ['San Marino', 'Marshall Islands', 'Cook Islands', 'Saint Kitts and Nevis', 'Niue', 'Palau', 'Dominica', 'Monaco', 'Nauru',\n",
    "                  'Tuvalu']\n",
    "\n",
    "for country in drop_countries:\n",
    "    reduced_df.drop(reduced_df[reduced_df['Country'] == country].index, inplace=True)\n",
    "    \n",
    "#reduced_df['Country'].value_counts() #all 16\n",
    "#183 countries"
   ]
  },
  {
   "cell_type": "code",
   "execution_count": null,
   "id": "938766e2-36ce-433d-8c28-cab6f21f8380",
   "metadata": {},
   "outputs": [],
   "source": [
    "## Dropped 10 Countries - missing life expectancy data\n",
    "#### San Marino, Marshall Islands, Cook Islands, Saint Kitts and Nevis, Niue, Palau, Dominica, Monaco, Nauru, Tuvalu"
   ]
  },
  {
   "cell_type": "code",
   "execution_count": null,
   "id": "b31e584f-67d9-4a64-a233-dc68be05d7ce",
   "metadata": {},
   "outputs": [],
   "source": [
    "reduced_df.groupby(\"Country\")['Schooling'].count()\n",
    "\n",
    "#183 countries"
   ]
  },
  {
   "cell_type": "code",
   "execution_count": null,
   "id": "885c1e59-fbe9-429d-b0b5-6b1a68b5c26c",
   "metadata": {},
   "outputs": [],
   "source": [
    "school_df = reduced_df[['Country', 'Year','Status','Life expectancy','BMI', 'GDP', 'Schooling']]\n",
    "\n",
    "school_df"
   ]
  },
  {
   "cell_type": "code",
   "execution_count": null,
   "id": "f47ad5e2-399a-43ca-a703-50f76aefb1a7",
   "metadata": {},
   "outputs": [],
   "source": [
    "drop_countries_schooling = ['Czechia',\"Côte d'Ivoire\",\"Democratic People's Republic of Korea\", \n",
    "                            \"Democratic Republic of the Congo\", \"Republic of Korea\", \"Republic of Moldova\", \"Somalia\",\n",
    "                            \"United Kingdom of Great Britain and Northern Ireland\",\"United Republic of Tanzania\",\n",
    "                            \"United States of America\"]\n",
    "\n",
    "for country in drop_countries_schooling:\n",
    "    school_df.drop(school_df[school_df['Country'] == country].index, inplace=True)"
   ]
  },
  {
   "cell_type": "code",
   "execution_count": null,
   "id": "81eae294-a68c-4692-a1ee-23566f171d0b",
   "metadata": {},
   "outputs": [],
   "source": [
    "school_df.groupby(\"Country\")['Schooling'].count()\n",
    "\n",
    "#173 countries"
   ]
  },
  {
   "cell_type": "markdown",
   "id": "22e0a82a-a0f7-4b76-9b1e-c98f5604e849",
   "metadata": {},
   "source": [
    "## \"Fig. #: Does More School = More Life?\""
   ]
  },
  {
   "cell_type": "code",
   "execution_count": null,
   "id": "6ac33160-59d4-4d58-9c6a-97db8d89fb2a",
   "metadata": {},
   "outputs": [],
   "source": [
    "fig = plt.figure(figsize =(12, 6))\n",
    "\n",
    "school_mean = school_df.groupby(\"Country\")[\"Schooling\"].mean()\n",
    "school_mean\n",
    "\n",
    "life_exp_mean = school_df.groupby(\"Country\")[\"Life expectancy\"].mean()\n",
    "life_exp_mean\n",
    "\n",
    "correlation_school_life = st.pearsonr(life_exp_mean,school_mean)\n",
    "print(f\"The correlation between average years in school and average life expectancy is {round(correlation_school_life[0],2)}\")\n",
    "\n",
    "\n",
    "x_values = school_mean\n",
    "y_values = life_exp_mean\n",
    "(slope, intercept, rvalue, pvalue, stderr) = linregress(x_values, y_values)\n",
    "regress_values = x_values * slope + intercept\n",
    "line_eq = \"y = \" + str(round(slope,2)) + \"x + \" + str(round(intercept,2))\n",
    "\n",
    "plt.scatter(x_values,y_values)\n",
    "plt.plot(x_values,regress_values,\"r-\")\n",
    "plt.annotate(line_eq,(6,10),fontsize=15,color=\"purple\")\n",
    "plt.xlabel(\"Average Schooling (years)\")\n",
    "plt.ylabel(\"Average Life Expectancy (years)\")\n",
    "plt.title(\"Fig. 1: Does More School = More Life?\")"
   ]
  },
  {
   "cell_type": "markdown",
   "id": "9b782d2f-8734-48f2-af17-89cbcd854a98",
   "metadata": {},
   "source": [
    "## \"Fig. #: Does More Development = More School?\""
   ]
  },
  {
   "cell_type": "code",
   "execution_count": null,
   "id": "b36fba9c-595c-45e5-aa63-cff65ef6985d",
   "metadata": {},
   "outputs": [],
   "source": [
    "school_mean = school_df.groupby(\"Country\")[\"Schooling\"].mean()\n",
    "school_mean\n",
    "\n",
    "life_exp_mean = school_df.groupby(\"Country\")[\"Life expectancy\"].mean()\n",
    "life_exp_mean\n",
    "\n",
    "Life = list(school_df.groupby(\"Status\")[\"Schooling\"].mean())\n",
    "School = list(school_df.groupby(\"Status\")[\"Life expectancy\"].mean())\n",
    "index = ['Developed', 'Developing']\n",
    "df = pd.DataFrame({'Years of Life': Life,\n",
    "                    'Years of Schooling': School}, index=index)\n",
    "\n",
    "ax = df.plot.barh()\n",
    "ax"
   ]
  },
  {
   "cell_type": "code",
   "execution_count": null,
   "id": "2cd5d147-3605-4632-bfda-6886516781d5",
   "metadata": {},
   "outputs": [],
   "source": []
  },
  {
   "cell_type": "code",
   "execution_count": null,
   "id": "3f690f74-a87a-4fd0-84ce-38110b75ea34",
   "metadata": {},
   "outputs": [],
   "source": []
  },
  {
   "cell_type": "code",
   "execution_count": null,
   "id": "56826e5e-2720-44ad-9060-037f09cfbd25",
   "metadata": {},
   "outputs": [],
   "source": []
  },
  {
   "cell_type": "code",
   "execution_count": null,
   "id": "c76db837-1f66-491c-a7f7-6b60ecbbfc08",
   "metadata": {},
   "outputs": [],
   "source": []
  },
  {
   "cell_type": "code",
   "execution_count": null,
   "id": "89099eb2-caf6-41b5-84cc-7f296948b38d",
   "metadata": {},
   "outputs": [],
   "source": []
  }
 ],
 "metadata": {
  "kernelspec": {
   "display_name": "Python 3",
   "language": "python",
   "name": "python3"
  },
  "language_info": {
   "codemirror_mode": {
    "name": "ipython",
    "version": 3
   },
   "file_extension": ".py",
   "mimetype": "text/x-python",
   "name": "python",
   "nbconvert_exporter": "python",
   "pygments_lexer": "ipython3",
   "version": "3.8.8"
  }
 },
 "nbformat": 4,
 "nbformat_minor": 5
}
